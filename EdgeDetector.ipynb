{
 "cells": [
  {
   "attachments": {},
   "cell_type": "markdown",
   "metadata": {},
   "source": [
    "#Edge Detection Algorithm Test"
   ]
  },
  {
   "cell_type": "code",
   "execution_count": 349,
   "metadata": {},
   "outputs": [],
   "source": [
    "import cv2;\n",
    "import timeit;\n",
    "import os;\n",
    "import numpy as np;\n",
    "import matplotlib.pyplot as plt;"
   ]
  },
  {
   "cell_type": "code",
   "execution_count": 350,
   "metadata": {},
   "outputs": [],
   "source": [
    "# variables for the edge detection algorithms\n",
    "test_amount = 100\n",
    "kernel_size = 3\n",
    "low_threshold = 1\n",
    "high_threshold = 30\n",
    "\n",
    "# file paths\n",
    "imageString = \"Images/lava_2048x2048.jpg\"\n",
    "path = (\n",
    "    imageString.replace(\"Images/\", \"logs/Images/\").replace(\".jpg\", \"\")\n",
    "    + \"-kernel_size-\"\n",
    "    + str(kernel_size)\n",
    "    + \"-low_threshold-\"\n",
    "    + str(low_threshold)\n",
    "    + \"-high_threshold-\"\n",
    "    + str(high_threshold)\n",
    "    + \"/\"\n",
    "    + imageString.replace(\"Images/\", \"\").replace(\".jpg\", \"\")\n",
    "    + \"-kernel_size-\"\n",
    "    + str(kernel_size)\n",
    "    + \"-low_threshold-\"\n",
    "    + str(low_threshold)\n",
    "    + \"-high_threshold-\"\n",
    "    + str(high_threshold)\n",
    "    + \".txt\"\n",
    ")\n",
    "if(not os.path.exists(os.path.dirname(path))):\n",
    "    os.makedirs(os.path.dirname(path))\n",
    "ImagePath = (\n",
    "     imageString.replace(\"Images/\", \"logs/Images/\").replace(\".jpg\", \"\")\n",
    "     + \"-kernel_size-\"\n",
    "    + str(kernel_size)\n",
    "    + \"-low_threshold-\"\n",
    "    + str(low_threshold)\n",
    "    + \"-high_threshold-\"\n",
    "    + str(high_threshold)\n",
    "    + \"/\"\n",
    "    + imageString.replace(\"Images/\", \"\").replace(\".jpg\", \"\")\n",
    "    + \"-kernel_size-\"\n",
    "    + str(kernel_size)\n",
    "    + \"-low_threshold-\"\n",
    "    + str(low_threshold)\n",
    "    + \"-high_threshold-\"\n",
    "    + str(high_threshold)\n",
    "    # imageString.replace(\"Images\", \"logs\").replace(\".jpg\", \"/\")+imageString.replace(\"Images/\", \"\").replace(\".jpg\", \"\")\n",
    ")"
   ]
  },
  {
   "cell_type": "code",
   "execution_count": 351,
   "metadata": {},
   "outputs": [],
   "source": [
    "#delete log file\n",
    "if os.path.exists(path):\n",
    "    os.remove(path);\n",
    "\n",
    "test = [];"
   ]
  },
  {
   "cell_type": "code",
   "execution_count": 352,
   "metadata": {},
   "outputs": [],
   "source": [
    "image = cv2.imread(imageString, 0);\n",
    "# uncomment these two lines to see the greyscale image\n",
    "# cv2.imshow(\"Greyscale Image\", image);\n",
    "# cv2.waitKey(0);"
   ]
  },
  {
   "cell_type": "code",
   "execution_count": 353,
   "metadata": {},
   "outputs": [],
   "source": [
    "img = cv2.imread(imageString,0);\n",
    "img_blur = cv2.GaussianBlur(img,(3,3),sigmaX=5000,sigmaY=-50);\n",
    "img_blur2 = cv2.GaussianBlur(img_blur,(3,3),sigmaX=5000,sigmaY=-50);\n",
    "img_blur3 = cv2.GaussianBlur(img_blur2,(3,3),sigmaX=5000,sigmaY=-50);\n",
    "#Time the Canny algorithm implemented in OpenCV and log it to a file.\n",
    "logFile = open(path,'a');\n",
    "logFile.write('Canny: ');\n",
    "cannyLog = 0;\n",
    "logTime = [];\n",
    "for i in range(0,test_amount):\n",
    "    cannyLog = timeit.timeit('cv2.Canny(img_blur3,low_threshold,high_threshold)',number=1,globals=globals())\n",
    "    logFile.write(str(cannyLog * 1000)+' ')\n",
    "    test.append(cannyLog);\n",
    "#calculate the average time\n",
    "logFile.write('\\n');\n",
    "logFile.write('Average_time: '+str(np.mean(test) * 1000) + '\\n');\n",
    "# logFile.write('\\n');\n",
    "test.clear(); #clear the list to be reused for the next algorithm"
   ]
  },
  {
   "cell_type": "code",
   "execution_count": 354,
   "metadata": {},
   "outputs": [],
   "source": [
    "logFile.write(\"Sobel: \")\n",
    "sobelLog = 0\n",
    "for i in range(0, test_amount):\n",
    "    sobelLog = timeit.timeit(\n",
    "        \"cv2.Sobel(img_blur3,cv2.CV_8U,1,0,ksize=kernel_size);\",\n",
    "        number=1,\n",
    "        globals=globals(),\n",
    "    )\n",
    "    logFile.write(str(sobelLog * 1000) + \" \")\n",
    "    test.append(sobelLog)\n",
    "# calculate the average time\n",
    "logFile.write(\"\\n\")\n",
    "logFile.write(\"Average_time: \" + str(np.mean(test) * 1000))\n",
    "\n",
    "logFile.close()\n",
    "img_canny = cv2.Canny(img_blur3, low_threshold, high_threshold)\n",
    "img_sobel = cv2.Sobel(img_blur3, cv2.CV_8U, 1, 0, ksize=kernel_size)\n",
    "# Comment out this line if you don't want to see the image\n",
    "cv2.imshow(\"Sobel\", img_sobel)\n",
    "# Comment out this line if you don't want to see the image\n",
    "cv2.imshow(\"Canny\", img_canny)\n",
    "cv2.imwrite(ImagePath + \"-Canny.jpg\", img_canny)\n",
    "cv2.imwrite(ImagePath + \"-Sobel.jpg\", img_sobel)\n",
    "cv2.waitKey(0)  # Comment out this line if you don't want to see the image"
   ]
  }
 ],
 "metadata": {
  "kernelspec": {
   "display_name": "Python 3",
   "language": "python",
   "name": "python3"
  },
  "language_info": {
   "codemirror_mode": {
    "name": "ipython",
    "version": 3
   },
   "file_extension": ".py",
   "mimetype": "text/x-python",
   "name": "python",
   "nbconvert_exporter": "python",
   "pygments_lexer": "ipython3",
   "version": "3.11.2"
  },
  "orig_nbformat": 4,
  "vscode": {
   "interpreter": {
    "hash": "3ede88d2c03ad3c08df65b7ff809fbae461fee88258c78a3e7a97c6ef75c31bc"
   }
  }
 },
 "nbformat": 4,
 "nbformat_minor": 2
}

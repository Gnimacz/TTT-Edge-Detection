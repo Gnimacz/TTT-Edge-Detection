{
 "cells": [
  {
   "attachments": {},
   "cell_type": "markdown",
   "metadata": {},
   "source": [
    "#Edge Detection Algorithm Test"
   ]
  },
  {
   "cell_type": "code",
   "execution_count": 5,
   "metadata": {},
   "outputs": [],
   "source": [
    "import cv2;\n",
    "import timeit;\n",
    "img = cv2.imread('depositphotos_3046726-stock-photo-isolated-surreal-snail.jpg',0);\n",
    "cv2.imshow('Img',img);\n",
    "cv2.waitKey(0);"
   ]
  },
  {
   "cell_type": "code",
   "execution_count": 6,
   "metadata": {},
   "outputs": [
    {
     "name": "stdout",
     "output_type": "stream",
     "text": [
      "0.0003846001345664263\n"
     ]
    }
   ],
   "source": [
    "img_blur = cv2.GaussianBlur(img,(3,3),sigmaX=75,sigmaY=0);\n",
    "#Time the Canny algorithm implemented in OpenCV.\n",
    "print(timeit.timeit('cv2.Canny(img_blur,100,200)',number=1,globals=globals()));\n",
    "img_canny = cv2.Canny(img_blur,100,200);\n",
    "cv2.imshow('Canny',img_canny);\n",
    "cv2.waitKey(0);"
   ]
  }
 ],
 "metadata": {
  "kernelspec": {
   "display_name": "Python 3",
   "language": "python",
   "name": "python3"
  },
  "language_info": {
   "codemirror_mode": {
    "name": "ipython",
    "version": 3
   },
   "file_extension": ".py",
   "mimetype": "text/x-python",
   "name": "python",
   "nbconvert_exporter": "python",
   "pygments_lexer": "ipython3",
   "version": "3.11.2"
  },
  "orig_nbformat": 4,
  "vscode": {
   "interpreter": {
    "hash": "3ede88d2c03ad3c08df65b7ff809fbae461fee88258c78a3e7a97c6ef75c31bc"
   }
  }
 },
 "nbformat": 4,
 "nbformat_minor": 2
}
